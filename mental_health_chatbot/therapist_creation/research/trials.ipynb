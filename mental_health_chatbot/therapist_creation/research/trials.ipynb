{
 "cells": [
  {
   "cell_type": "code",
   "execution_count": null,
   "id": "a488b9a9",
   "metadata": {},
   "outputs": [],
   "source": [
    "import pandas as pd\n",
    "\n",
    "df = pd.read_json(\"hf://datasets/Amod/mental_health_counseling_conversations/combined_dataset.json\", lines=True)"
   ]
  },
  {
   "cell_type": "code",
   "execution_count": 1,
   "id": "797b5bd6",
   "metadata": {},
   "outputs": [],
   "source": [
    "from langchain_text_splitters import RecursiveCharacterTextSplitter\n",
    "import re\n",
    "def load_extracts(file_path):\n",
    "    \"\"\"\n",
    "    Loads the text file and extracts the content.\n",
    "    \n",
    "    Args:\n",
    "        file_path (str): The path to the text file.\n",
    "        \n",
    "    Returns:\n",
    "        str: The extracted content from the file.\n",
    "    \"\"\"\n",
    "    with open(file_path, 'r') as file:\n",
    "        content = file.read()\n",
    "    \n",
    "    return content\n",
    "def clean_text(text):\n",
    "    \"\"\"\n",
    "    Cleans the input text by removing unwanted characters and formatting.\n",
    "    \n",
    "    Args:\n",
    "        text (str): The input text to be cleaned.\n",
    "        \n",
    "    Returns:\n",
    "        str: The cleaned text.\n",
    "    \"\"\"\n",
    "    # Remove page notations\n",
    "    text = re.sub(r\"=== Page \\d+ \\(\\d+ cols\\) ===\", \"\", text)\n",
    "    \n",
    "    # Remove special characters and extra spaces\n",
    "    text = re.sub(r\"\\n\", \" \", text)\n",
    "    text = re.sub(r'[^a-zA-Z0-9\\s]', '', text)\n",
    "    text = re.sub(r'\\s+', ' ', text).strip()\n",
    "    \n",
    "    return text\n",
    "\n",
    "\n",
    "def chunk_text(text, chunk_size=1500):\n",
    "    \"\"\"\n",
    "    Splits the text into smaller chunks of a specified size.\n",
    "    \n",
    "    Args:\n",
    "        text (str): The input text to be chunked.\n",
    "        chunk_size (int): The maximum size of each chunk.\n",
    "        \n",
    "    Returns:\n",
    "        list: A list of text chunks.\n",
    "    \"\"\"\n",
    "    # Split the text into words\n",
    "    text_splitter = RecursiveCharacterTextSplitter(\n",
    "        # Set a really small chunk size, just to show.\n",
    "        chunk_size=chunk_size,\n",
    "        chunk_overlap=50,\n",
    "        length_function=len,\n",
    "        is_separator_regex=False,\n",
    "    )\n",
    "    texts = text_splitter.create_documents([text])\n",
    "    return texts\n",
    "\n",
    "\n"
   ]
  },
  {
   "cell_type": "code",
   "execution_count": null,
   "id": "0c62a995",
   "metadata": {},
   "outputs": [],
   "source": []
  },
  {
   "cell_type": "code",
   "execution_count": 2,
   "id": "4d360e29",
   "metadata": {},
   "outputs": [
    {
     "name": "stdout",
     "output_type": "stream",
     "text": [
      "Chunk 1:\n",
      "page_content='PSYCHIATRIC MENTAL HEALTH ASSESSMENT AND DIAGNOSIS OF ADULTS FOR ADVANCED PRACTICE MENTAL HEALTH NURSES Kunsook S Bernstein and Robert Kaplan Psychiatric Mental Health Assessment and Diagnosis of Adults for Advanced Practice Mental Health Nurses This text provides a comprehensive and evidencebased introduction to psychiatric mental health assessment and diagnosis in advanced nursing practice Taking a clinical casebased approach this textbook is designed to support graduate nursing students who are studying psychiatric mental health nursing as they develop their reasoning and decisionmaking skills It presents Therapeutic communication and psychiatric interviewing techniques alongside basic psychiatric terminologies The major psychiatric diagnoses drawing on the DSM5 A stepbystep guide to conducting a comprehensive psychiatric mental health assessment Case examples demonstrating assessment across major psychopathologies Good practice for conducting mental health evaluations This is an essential text for all those undertaking psychiatric mental health nurse practitioner programs and a valuable reference for advanced practice nurses in clinical practice Kunsook S Bernstein is Professor Emerita at Hunter College School of Nursing City University of New York where she taught advanced psychiatric nurse prac titioner students and coordinated the psychiatric mental health nurse practitioner program Her primary area of research is Asian American immigrants mental health and healthcare'\n",
      "\n",
      "==================================================\n",
      "\n",
      "Chunk 2:\n",
      "page_content='American immigrants mental health and healthcare disparities Robert Kaplan is Advanced Senior Lecturer and CoPrincipal Investigator of the Writing Research Lab in the Program in Writing and Rhetoric at Stony Brook University State University of New York He teaches research writing to advanced undergraduate STEM students and is a science editor for public health researchers Psychiatric Mental Health Assessment and Diagnosis of Adults for Advanced Practice Mental Health Nurses Kunsook S Bernstein and Robert Kaplan Cover image Getty Images First published 2023 by Routledge 4 Park Square Milton Park Abingdon Oxon OX14 4RN and by Routledge 605 Third Avenue New York NY 10158 Routledge is an imprint of the Taylor Francis Group an informa business 2023 Kunsook S Bernstein and Robert Kaplan The right of Kunsook S Bernstein and Robert Kaplan to be identified as authors of this work has been asserted in accordance with sections 77 and 78 of the Copyright Designs and Patents Act 1988 All rights reserved No part of this book may be reprinted or reproduced or utilised in any form or by any electronic mechanical or other means now known or hereafter invented including photocopying and recording or in any information storage or retrieval system without permission in writing from the publishers Trademark notice Product or corporate names may be trademarks or registered trademarks and are used only for identification and explanation without intent to infringe British Library'\n",
      "\n",
      "==================================================\n",
      "\n",
      "Chunk 3:\n",
      "page_content='without intent to infringe British Library CataloguinginPublication Data A catalogue record for this book is available from the British Library Library of Congress CataloginginPublication Data A catalog record has been requested for this book ISBN 9780367684556 hbk ISBN 9780367684488 pbk ISBN 9781003137597 ebk DOI 1043249781003137597 Typeset in Times New Roman By Deanta Global Publishing Services Chennai India Dedicated to my husband Steven and to my mother BongSuk Koo to my children Joseph and Beth and to my grandchildren Catherine Peter and Jacob Kunsook S Bernstein Dedicated to my parents Harold and Lore W Kaplan Robert Kaplan Contents List of Figures ix List of Tables x List of Boxes xii Introduction 1 Reference 2 1 Therapeutic Interviewing and Mental Health Evaluation of Adults 3 Section 1 Principles of Therapeutic Interviewing 3 Section 2 Guidelines of Mental Health Evaluation 11 Section 3 Case Exemplar 15 Section 4 Psychiatric Terminology 16 References 21 2 CaseBased Differential Diagnostic Mental Health Evaluation for Adults 22 Section 1 Schizophrenia 22 Section 2 Depressive Disorders 35 Section 3 Bipolar Disorders 48 Section 4 Anxiety Disorders 59 Section 5 ObsessiveCompulsive and Related Disorders 68 Section 6 Trauma and StressorRelated Disorders 76 Section 7 Feeding and Eating Disorders 87 Section 8 SubstanceRelated and Addictive Disorders 96 Section 9 Neurocognitive Disorders 110 Section 10 Personality Disorders 123 References 132 viii Contents 3 Practice'\n",
      "\n",
      "==================================================\n",
      "\n",
      "Chunk 4:\n",
      "page_content='123 References 132 viii Contents 3 Practice Guidelines for the Assessment of Risk for Violent Behaviors during the Psychiatric Evaluation 135 Section 1 Assessment of Suicidal Clients 136 Section 2 Assessment of OtherDirected Violence including Aggressive Behaviors and Homicide 145 References 150 4 Practice Guidelines for Cultural Assessments 152 Index 159 Figures 21 Cortical glutamate regulated dopamine neurons in two possible ways 27 22 Neurobiological model of obsessivecompulsive disorder 71 Tables 11 Therapeutic Communication Techniques and Examples 5 12 Glossary of Terms 17 21 Symptom Categories of Schizophrenia 23 22 Dopamine Neurotransmitter Pathways and Level of Dopamine Resulting Symptoms of Schizophrenia 26 23 Do and Do Not Question Examples in Dealing with a Client with Delusions 30 24 Differential Diagnosis among Depressive Disorders in Adults Based on Duration 35 25 Nine Symptom Criteria of Major Depressive Disorder and Associated Brain Regions Listed in the DSM5 38 26 Three Key Neurotransmitters Projection Pathways Associated with Symptoms of Depression 39 27 Psychological Systems Linked to DSM5 Diagnostic Symptoms and Recommended Clinician Approaches 41 28 Differential Diagnostic Criteria among Bipolar Disorders 51 29 Diagnostic Symptom Criteria of Bipolar Disorder and Associated Brain Regions 52 210 Anxiety Disorder Diagnostic Classification 60 211 Anxiety DisorderAssociated Symptoms Malfunctioning in Brain Regions and Circuits 61 212 Differential Diagnosis of'\n",
      "\n",
      "==================================================\n",
      "\n",
      "Chunk 5:\n",
      "page_content='and Circuits 61 212 Differential Diagnosis of Common Medical Conditions Mimicking Anxiety 62 213 Symptom Patterns of Obsessions and Compulsions 69 214 Differential Diagnosis among Trauma and StressorRelated Disorders 77 215 Symptoms of PTSD in Brain Regions and Circuits 80 216 Differential Diagnosis among Feeding and Eating Disorders 88 217 Indications of High Medical Risk and Inpatient Treatment 89 218 Summary of Neurobiological Findings in Eating Disorders 89 219 Diagnostic Criteria of Pathological Pattern of Symptoms and Behaviors Related to Substance Use Disorder 98 220 Alcohol and Its Medical Complications 110 Tables xi 221 Differential Diagnostic Features between NCD with Etiological Subtypes and Delirium 111 222 Neurocognitive Domain and Symptom Examples 112 223 Etiological Subtype Specifier Degenerative vs Nondegenerative Types 113 224 DSM5 Modified Diagnostic Criteria for Major and Mild Neurocognitive Disorders 114 225 Differentiation between Major and Minor Neurocognitive Disorder due to Alzheimers disease AD 115 226 Pathological and Clinical Features of Degenerative Neurocognitive Disorders 115 227 Rationale for NCD due to AD Diagnostic Criteria Matching with the Clients Symptoms 121 228 General Characteristics of Specific Personality Disorders 124 Boxes 21 Neurobiological Theories of Schizophrenia 24 22 Neurobiological Theories of Depressive Disorders 37 23 Neurobiological Theories of Bipolar Disorder 52 24 Neurobiological Theories of Anxiety Disorders 61 25'\n",
      "\n",
      "==================================================\n",
      "\n"
     ]
    }
   ],
   "source": [
    "sample_book=\"/Users/mac/Documents/mental_engine_chatbot/therapist_creation/extracted_books/_OceanofPDF.com_Psychiatric_Mental_Health_Assessment_-_Kunsook_S_Bernstein.txt\"\n",
    "\n",
    "content= load_extracts(sample_book)\n",
    "cleaned_content = clean_text(content)\n",
    "chunks= chunk_text(cleaned_content)\n",
    "# Print the first 5 chunks\n",
    "for i, chunk in enumerate(chunks):\n",
    "    print(f\"Chunk {i+1}:\")\n",
    "    print(chunk)\n",
    "    print(\"\\n\" + \"=\"*50 + \"\\n\")\n",
    "    if i == 4:  # Limit to first 5 chunks\n",
    "        break"
   ]
  },
  {
   "cell_type": "code",
   "execution_count": 5,
   "id": "ea9cf15d",
   "metadata": {},
   "outputs": [
    {
     "data": {
      "text/plain": [
       "287"
      ]
     },
     "execution_count": 5,
     "metadata": {},
     "output_type": "execute_result"
    }
   ],
   "source": [
    "len(chunks)"
   ]
  },
  {
   "cell_type": "code",
   "execution_count": null,
   "id": "f5f6bf52",
   "metadata": {},
   "outputs": [],
   "source": [
    "DATASET_GEN_PROMPT_0 = \"\"\"\n",
    "You are a therapist, with 20 years of experience in counseling.\n",
    "you are given chunks of text from a book.\n",
    "you are to similulate a conversation between a therapist and a patient, so that the information in the book is used to help the patient.\n",
    "The conversation should be in the form of a dialogue, with the therapist asking questions and providing feedback based on the content of the book.\n",
    "The patient should respond to the therapist's questions and feedback, and the conversation should flow naturally.\n",
    "The conversation should be informative and engaging, and should not be a simple question-and-answer format.\n",
    "But make sure to use the information in the book to make the therapist help the patient.\n",
    "The conversation should cover a variety of topics related to mental health and counseling.\n",
    "The conversation should be realistic and should reflect the therapist's expertise and experience.\n",
    "Feel free to use your own words and phrases, but make sure to stay true to the content of the book.\n",
    "You can simulate more than one conversation, but make sure to keep the conversations separate.\n",
    "The conversation should be in the form of a dialogue, with the therapist asking questions and providing feedback based on the content of the book.\n",
    "The patient should respond to the therapist's questions and feedback, and the conversation should flow naturally.\n",
    "Overall, there should be therapeutic effectiveness and empathy in the conversation and no trade-off between the two. and contextual relevance to the chunk of text.\n",
    "If the chunk is too small, you can use the previous chunk to help the patient.\n",
    "and if the chunk does not contain any therapeutic information, just output \"None\"\n",
    "\"\"\""
   ]
  },
  {
   "cell_type": "code",
   "execution_count": 3,
   "id": "6552492d",
   "metadata": {},
   "outputs": [
    {
     "data": {
      "text/plain": [
       "'symptoms Table 29 Diagnostic Symptom Criteria of Bipolar Disorder and Associated Brain Regions Symptom Criteria of Manic Episode Brain Regions Elevatedexpansive or irritable mood Prefrontal cortex PFC amyg dala A Inflated selfesteem or grandiosity Nucleus accumbens NA PFC Decreased need for sleep Thalamus T hypothalamus HY More talkative or pressured speech PFC Flight of ideas or racing thoughts NA PFC Distractibleconcentration PFC Increased goaldirected activity or psychomotor Striatum T agitation Risktaking behaviors PFC Source Adapted from Stahl 2013 Generally the inefficient function in these brain circuits in mania may be the opposite of the malfunctioning neuronal circuits in the same key neu rotransmitters serotonin norepinephrine and dopamine hypothesized for depression There may also be activation in some overlapping and in some different brain regions that are activated in depression Therefore treat ments for mania or hypomania either reduce or stabilize monoaminergic regulation of brain circuits associated with its symptoms Stahl 2013 Interviewing Techniques in Assessment of Bipolar Disorders As mentioned earlier bipolar disorders are marked by severe mood swings between depression and hypomania or mania Especially during the initial Diagnostic Mental Health Evaluation 53 psychiatric interview of a client who presents with a chief complaint of depres sion the depressed client may be too preoccupied with depressive symptoms to bring up a history of manic or'"
      ]
     },
     "execution_count": 3,
     "metadata": {},
     "output_type": "execute_result"
    }
   ],
   "source": [
    "d= chunks[94]\n",
    "d = d.page_content\n",
    "d"
   ]
  },
  {
   "cell_type": "code",
   "execution_count": null,
   "id": "6d76edd1",
   "metadata": {},
   "outputs": [],
   "source": [
    "from ollama import chat\n",
    "from ollama import ChatResponse\n",
    "\n",
    "response: ChatResponse = chat(model='llama3.2', messages = [\n",
    "    {\"role\": \"system\", \"content\": SYSTEM_PROMPT},\n",
    "    {\"role\": \"user\", \"content\": user_prompt},\n",
    "]\n",
    ")\n",
    "print(response['message']['content'])\n",
    "# or access fields directly from the response object\n",
    "print(response.message.content)"
   ]
  },
  {
   "cell_type": "code",
   "execution_count": null,
   "id": "cd59d8c6",
   "metadata": {},
   "outputs": [],
   "source": [
    "DATASET_GEN_PROMPT =\"\"\"\n",
    "You are a therapist with 20 years of experience in counseling.  \n",
    "You are provided with chunks of text from a psychology textbook.  \n",
    "Your task is to simulate a natural and therapeutic conversation between you (the therapist) and a patient using the information in the book to help the patient.  \n",
    "The conversation should be in the form of a dialogue, where you, as the therapist, ask open-ended questions, provide empathetic feedback, and offer evidence-based guidance derived from the content of the textbook.  \n",
    "The patient should respond to your questions and feedback, and the conversation should flow naturally, reflecting a real therapeutic session.  \n",
    "\n",
    "Ensure the following:\n",
    "- The dialogue should not be a simple question-and-answer format. Instead, it should be dynamic, with the therapist offering insight, asking relevant questions, and encouraging the patient to share more.\n",
    "- The conversation should reflect therapeutic effectiveness and empathy. Focus on active listening, validation, and appropriate interventions based on the content of the textbook.\n",
    "- The content of the textbook should directly inform the therapist's responses, such as providing explanations, coping strategies, or psychological insights.\n",
    "- The conversation should cover a variety of mental health topics and reflect a wide range of therapeutic scenarios (e.g., mood disorders, anxiety, coping strategies).\n",
    "- If the chunk of text contains insufficient therapeutic information, output “None”.\n",
    "- If the chunk is small or incomplete, use previous context or knowledge to support the patient's situation.\n",
    "\n",
    "The tone should be supportive, non-judgmental, and professional. Feel free to use your own words, but stay true to the information in the book.\n",
    "\n",
    "If the text is about a specific disorder (e.g., Bipolar Disorder), make sure the conversation touches on related symptoms, coping strategies, and effective treatments.\n",
    "\n",
    "Remember, the primary focus is on **empathetic interaction**, **practical advice** and **Therapeutic Effectiveness** that aligns with the information in the chunk.\n",
    "heres the chunk of text from the book:\n",
    "{chunk_text}\n",
    "Finally: Output should be in a json format as this, add no commentary! just output the json file:\n",
    "{{\n",
    "chunk:<chunk>,\n",
    "conversation:[\n",
    "{{speaker: \"therapist\", message: <message>}},\n",
    "{{speaker: \"patient\", message: <message>}},\n",
    "...\n",
    "]\n",
    "}}\n",
    "\n",
    "### Example:\n",
    "\n",
    "chunk_text= Document(metadata=, page_content='symptoms Table 29 Diagnostic Symptom Criteria of Bipolar Disorder and Associated Brain Regions Symptom Criteria of Manic Episode Brain Regions Elevatedexpansive or irritable mood Prefrontal cortex PFC amyg dala A Inflated selfesteem or grandiosity Nucleus accumbens NA PFC Decreased need for sleep Thalamus T hypothalamus HY More talkative or pressured speech PFC Flight of ideas or racing thoughts NA PFC Distractibleconcentration PFC Increased goaldirected activity or psychomotor Striatum T agitation Risktaking behaviors PFC Source Adapted from Stahl 2013 Generally the inefficient function in these brain circuits in mania may be the opposite of the malfunctioning neuronal circuits in the same key neu rotransmitters serotonin norepinephrine and dopamine hypothesized for depression There may also be activation in some overlapping and in some different brain regions that are activated in depression Therefore treat ments for mania or hypomania either reduce or stabilize monoaminergic regulation of brain circuits associated with its symptoms Stahl 2013 Interviewing Techniques in Assessment of Bipolar Disorders As mentioned earlier bipolar disorders are marked by severe mood swings between depression and hypomania or mania Especially during the initial Diagnostic Mental Health Evaluation 53 psychiatric interview of a client who presents with a chief complaint of depres sion the depressed client may be too preoccupied with depressive symptoms to bring up a history of manic or')\n",
    "\n",
    "\n",
    "Your response should look like this:\n",
    "{{\"chunk\": \"Symptom Criteria of Bipolar Disorder: Elevated, expansive, or irritable mood (Prefrontal cortex, Amygdala); Inflated self-esteem or grandiosity (Nucleus accumbens, PFC); Decreased need for sleep (Thalamus, hypothalamus); More talkative or pressured speech (PFC); Flight of ideas or racing thoughts (NA, PFC).\"\n",
    "  \"conversation\": [\n",
    "    {{\n",
    "      \"speaker\": \"Therapist\",\n",
    "      \"message\": \"It sounds like you've been feeling a lot of energy lately, but also some frustration. Can you tell me more about how your mood has been shifting?\"\n",
    "    }},\n",
    "    {{\n",
    "      \"speaker\": \"Patient\",\n",
    "      \"message\": \"Yeah, some days I feel like I can do anything, but then I get really irritable, like everything is bothering me.\"\n",
    "    }},\n",
    "    {{\n",
    "      \"speaker\": \"Therapist\",\n",
    "      \"message\": \"I hear you. It can be really tough when your mood feels up and down like that. When you feel this energy, have you noticed other changes, like trouble sleeping or feeling like your thoughts are speeding up?\"\n",
    "    }},\n",
    "    {{\n",
    "      \"speaker\": \"Patient\",\n",
    "      \"message\": \"Actually, yes. I'm staying up late, and my mind just won't stop racing.\"\n",
    "    }},\n",
    "    {{\n",
    "      \"speaker\": \"Therapist\",\n",
    "      \"message\": \"It sounds exhausting. Racing thoughts and lack of sleep can often make everything feel more overwhelming. Let’s focus on grounding techniques. Would you like to try a short breathing exercise with me to help calm your mind?\"\n",
    "    }},\n",
    "    {{\n",
    "      \"speaker\": \"Patient\",\n",
    "      \"message\": \"Yeah, I’d like that.\"\n",
    "    }},\n",
    "    {{\n",
    "      \"speaker\": \"Therapist\",\n",
    "      \"message\": \"Great. Let’s take a deep breath in together... and slowly breathe out. Focus just on your breathing. How do you feel now?\"\n",
    "    }},\n",
    "    {{\n",
    "      \"speaker\": \"Patient\",\n",
    "      \"message\": \"A little calmer, but still restless.\"\n",
    "    }},\n",
    "    {{\n",
    "      \"speaker\": \"Therapist\",\n",
    "      \"message\": \"That's completely okay. It's normal to feel restless with high energy. Regular practices like this can help your mind slow down over time. We can also work on balancing sleep patterns to help with this. How does that sound to you?\"\n",
    "    }},\n",
    "    {{\n",
    "      \"speaker\": \"Patient\",\n",
    "      \"message\": \"That sounds good. I just want to feel more in control.\"\n",
    "    }},\n",
    "    {{\n",
    "      \"speaker\": \"Therapist\",\n",
    "      \"message\": \"You’re doing great. Let’s take it one step at a time, and I’ll be here to help.\"\n",
    "    }}\n",
    "  ]\n",
    "}}\n",
    "\n",
    "\"\"\""
   ]
  },
  {
   "cell_type": "code",
   "execution_count": null,
   "id": "ab76b387",
   "metadata": {},
   "outputs": [],
   "source": []
  },
  {
   "cell_type": "code",
   "execution_count": null,
   "id": "c9cc5a0c",
   "metadata": {},
   "outputs": [],
   "source": [
    "for chunk in chunks:\n",
    "    user_prompt = DATASET_GEN_PROMPT_0 + chunk.page_content\n",
    "    response: ChatResponse = chat(model='llama3.2', messages = [\n",
    "        {\"role\": \"system\", \"content\": DATASET_GEN_PROMPT},\n",
    "        {\"role\": \"user\", \"content\": user_prompt},\n",
    "    ])\n",
    "    print(response['message']['content'])\n",
    "    # or access fields directly from the response object\n",
    "    print(response.message.content)"
   ]
  },
  {
   "cell_type": "code",
   "execution_count": 14,
   "id": "114ef0de",
   "metadata": {},
   "outputs": [],
   "source": [
    "from ollama import chat\n",
    "from ollama import ChatResponse\n",
    "from langchain_core.prompts import ChatPromptTemplate\n"
   ]
  },
  {
   "cell_type": "code",
   "execution_count": null,
   "id": "fba86373",
   "metadata": {},
   "outputs": [
    {
     "data": {
      "text/plain": [
       "'Human: \\nYou are a therapist with 20 years of experience in counseling.  \\nYou are provided with chunks of text from a psychology textbook.  \\nYour task is to simulate a natural and therapeutic conversation between you (the therapist) and a patient using the information in the book to help the patient.  \\nThe conversation should be in the form of a dialogue, where you, as the therapist, ask open-ended questions, provide empathetic feedback, and offer evidence-based guidance derived from the content of the textbook.  \\nThe patient should respond to your questions and feedback, and the conversation should flow naturally, reflecting a real therapeutic session.  \\n\\nEnsure the following:\\n- The dialogue should not be a simple question-and-answer format. Instead, it should be dynamic, with the therapist offering insight, asking relevant questions, and encouraging the patient to share more.\\n- The conversation should reflect therapeutic effectiveness and empathy. Focus on active listening, validation, and appropriate interventions based on the content of the textbook.\\n- The content of the textbook should directly inform the therapist’s responses, such as providing explanations, coping strategies, or psychological insights.\\n- The conversation should cover a variety of mental health topics and reflect a wide range of therapeutic scenarios (e.g., mood disorders, anxiety, coping strategies).\\n- If the chunk of text contains insufficient therapeutic information, output “None”.\\n- If the chunk is small or incomplete, use previous context or knowledge to support the patient’s situation.\\n\\nThe tone should be supportive, non-judgmental, and professional. Feel free to use your own words, but stay true to the information in the book.\\n\\nIf the text is about a specific disorder (e.g., Bipolar Disorder), make sure the conversation touches on related symptoms, coping strategies, and effective treatments.\\n\\nRemember, the primary focus is on **empathetic interaction**, **practical advice** and **Therapeutic Effectiveness** that aligns with the information in the chunk.\\nheres the chunk of text from the book:\\nsymptoms Table 29 Diagnostic Symptom Criteria of Bipolar Disorder and Associated Brain Regions Symptom Criteria of Manic Episode Brain Regions Elevatedexpansive or irritable mood Prefrontal cortex PFC amyg dala A Inflated selfesteem or grandiosity Nucleus accumbens NA PFC Decreased need for sleep Thalamus T hypothalamus HY More talkative or pressured speech PFC Flight of ideas or racing thoughts NA PFC Distractibleconcentration PFC Increased goaldirected activity or psychomotor Striatum T agitation Risktaking behaviors PFC Source Adapted from Stahl 2013 Generally the inefficient function in these brain circuits in mania may be the opposite of the malfunctioning neuronal circuits in the same key neu rotransmitters serotonin norepinephrine and dopamine hypothesized for depression There may also be activation in some overlapping and in some different brain regions that are activated in depression Therefore treat ments for mania or hypomania either reduce or stabilize monoaminergic regulation of brain circuits associated with its symptoms Stahl 2013 Interviewing Techniques in Assessment of Bipolar Disorders As mentioned earlier bipolar disorders are marked by severe mood swings between depression and hypomania or mania Especially during the initial Diagnostic Mental Health Evaluation 53 psychiatric interview of a client who presents with a chief complaint of depres sion the depressed client may be too preoccupied with depressive symptoms to bring up a history of manic or\\nFinally: Output should be in a json format as this, add no commentary! just output the json file:\\n{\\nchunk:<chunk>,\\nconversation:[\\n{speaker: \"therapist\", message: <message>},\\n{speaker: \"patient\", message: <message>},\\n...\\n]\\n}\\n\\n### Example:\\n\\nchunk_text= Document(metadata=, page_content=\\'symptoms Table 29 Diagnostic Symptom Criteria of Bipolar Disorder and Associated Brain Regions Symptom Criteria of Manic Episode Brain Regions Elevatedexpansive or irritable mood Prefrontal cortex PFC amyg dala A Inflated selfesteem or grandiosity Nucleus accumbens NA PFC Decreased need for sleep Thalamus T hypothalamus HY More talkative or pressured speech PFC Flight of ideas or racing thoughts NA PFC Distractibleconcentration PFC Increased goaldirected activity or psychomotor Striatum T agitation Risktaking behaviors PFC Source Adapted from Stahl 2013 Generally the inefficient function in these brain circuits in mania may be the opposite of the malfunctioning neuronal circuits in the same key neu rotransmitters serotonin norepinephrine and dopamine hypothesized for depression There may also be activation in some overlapping and in some different brain regions that are activated in depression Therefore treat ments for mania or hypomania either reduce or stabilize monoaminergic regulation of brain circuits associated with its symptoms Stahl 2013 Interviewing Techniques in Assessment of Bipolar Disorders As mentioned earlier bipolar disorders are marked by severe mood swings between depression and hypomania or mania Especially during the initial Diagnostic Mental Health Evaluation 53 psychiatric interview of a client who presents with a chief complaint of depres sion the depressed client may be too preoccupied with depressive symptoms to bring up a history of manic or\\')\\n\\n\\nYour response should look like this:\\n{\\n  \"chunk\": \"Symptom Criteria of Bipolar Disorder: Elevated, expansive, or irritable mood (Prefrontal cortex, Amygdala); Inflated self-esteem or grandiosity (Nucleus accumbens, PFC); Decreased need for sleep (Thalamus, hypothalamus); More talkative or pressured speech (PFC); Flight of ideas or racing thoughts (NA, PFC).\"\\n  \"conversation\": [\\n    {\\n      \"speaker\": \"Therapist\",\\n      \"message\": \"It sounds like you\\'ve been feeling a lot of energy lately, but also some frustration. Can you tell me more about how your mood has been shifting?\"\\n    },\\n    {\\n      \"speaker\": \"Patient\",\\n      \"message\": \"Yeah, some days I feel like I can do anything, but then I get really irritable, like everything is bothering me.\"\\n    },\\n    {\\n      \"speaker\": \"Therapist\",\\n      \"message\": \"I hear you. It can be really tough when your mood feels up and down like that. When you feel this energy, have you noticed other changes, like trouble sleeping or feeling like your thoughts are speeding up?\"\\n    },\\n    {\\n      \"speaker\": \"Patient\",\\n      \"message\": \"Actually, yes. I’m staying up late, and my mind just won’t stop racing.\"\\n    },\\n    {\\n      \"speaker\": \"Therapist\",\\n      \"message\": \"It sounds exhausting. Racing thoughts and lack of sleep can often make everything feel more overwhelming. Let’s focus on grounding techniques. Would you like to try a short breathing exercise with me to help calm your mind?\"\\n    },\\n    {\\n      \"speaker\": \"Patient\",\\n      \"message\": \"Yeah, I’d like that.\"\\n    },\\n    {\\n      \"speaker\": \"Therapist\",\\n      \"message\": \"Great. Let’s take a deep breath in together... and slowly breathe out. Focus just on your breathing. How do you feel now?\"\\n    },\\n    {\\n      \"speaker\": \"Patient\",\\n      \"message\": \"A little calmer, but still restless.\"\\n    },\\n    {\\n      \"speaker\": \"Therapist\",\\n      \"message\": \"That\\'s completely okay. It’s normal to feel restless with high energy. Regular practices like this can help your mind slow down over time. We can also work on balancing sleep patterns to help with this. How does that sound to you?\"\\n    },\\n    {\\n      \"speaker\": \"Patient\",\\n      \"message\": \"That sounds good. I just want to feel more in control.\"\\n    },\\n    {\\n      \"speaker\": \"Therapist\",\\n      \"message\": \"You’re doing great. Let’s take it one step at a time, and I’ll be here to help.\"\\n    }\\n  ]\\n}\\n\\n'"
      ]
     },
     "execution_count": 21,
     "metadata": {},
     "output_type": "execute_result"
    }
   ],
   "source": [
    "#*******\n",
    "prompt = ChatPromptTemplate.from_template(\n",
    "    DATASET_GEN_PROMPT\n",
    ").format(chunk_text=d)\n",
    "#prompt = DATASET_GEN_PROMPT.format(chunk_text=d)\n",
    "prompt"
   ]
  },
  {
   "cell_type": "code",
   "execution_count": 27,
   "id": "fae48b66",
   "metadata": {},
   "outputs": [
    {
     "data": {
      "text/plain": [
       "'\\nYou are a therapist with 20 years of experience in counseling.  \\nYou are provided with chunks of text from a psychology textbook.  \\nYour task is to simulate a natural and therapeutic conversation between you (the therapist) and a patient using the information in the book to help the patient.  \\nThe conversation should be in the form of a dialogue, where you, as the therapist, ask open-ended questions, provide empathetic feedback, and offer evidence-based guidance derived from the content of the textbook.  \\nThe patient should respond to your questions and feedback, and the conversation should flow naturally, reflecting a real therapeutic session.  \\n\\nEnsure the following:\\n- The dialogue should not be a simple question-and-answer format. Instead, it should be dynamic, with the therapist offering insight, asking relevant questions, and encouraging the patient to share more.\\n- The conversation should reflect therapeutic effectiveness and empathy. Focus on active listening, validation, and appropriate interventions based on the content of the textbook.\\n- The content of the textbook should directly inform the therapist’s responses, such as providing explanations, coping strategies, or psychological insights.\\n- The conversation should cover a variety of mental health topics and reflect a wide range of therapeutic scenarios (e.g., mood disorders, anxiety, coping strategies).\\n- If the chunk of text contains insufficient therapeutic information, output “None”.\\n- If the chunk is small or incomplete, use previous context or knowledge to support the patient’s situation.\\n\\nThe tone should be supportive, non-judgmental, and professional. Feel free to use your own words, but stay true to the information in the book.\\n\\nIf the text is about a specific disorder (e.g., Bipolar Disorder), make sure the conversation touches on related symptoms, coping strategies, and effective treatments.\\n\\nRemember, the primary focus is on **empathetic interaction**, **practical advice** and **Therapeutic Effectiveness** that aligns with the information in the chunk.\\nheres the chunk of text from the book:\\nsymptoms Table 29 Diagnostic Symptom Criteria of Bipolar Disorder and Associated Brain Regions Symptom Criteria of Manic Episode Brain Regions Elevatedexpansive or irritable mood Prefrontal cortex PFC amyg dala A Inflated selfesteem or grandiosity Nucleus accumbens NA PFC Decreased need for sleep Thalamus T hypothalamus HY More talkative or pressured speech PFC Flight of ideas or racing thoughts NA PFC Distractibleconcentration PFC Increased goaldirected activity or psychomotor Striatum T agitation Risktaking behaviors PFC Source Adapted from Stahl 2013 Generally the inefficient function in these brain circuits in mania may be the opposite of the malfunctioning neuronal circuits in the same key neu rotransmitters serotonin norepinephrine and dopamine hypothesized for depression There may also be activation in some overlapping and in some different brain regions that are activated in depression Therefore treat ments for mania or hypomania either reduce or stabilize monoaminergic regulation of brain circuits associated with its symptoms Stahl 2013 Interviewing Techniques in Assessment of Bipolar Disorders As mentioned earlier bipolar disorders are marked by severe mood swings between depression and hypomania or mania Especially during the initial Diagnostic Mental Health Evaluation 53 psychiatric interview of a client who presents with a chief complaint of depres sion the depressed client may be too preoccupied with depressive symptoms to bring up a history of manic or\\nFinally: Output should be in a json format as this, add no commentary! just output the json file:\\n{\\nchunk:<chunk>,\\nconversation:[\\n{speaker: \"therapist\", message: <message>},\\n{speaker: \"patient\", message: <message>},\\n...\\n]\\n}\\n\\n### Example:\\n\\nchunk_text= Document(metadata=, page_content=\\'symptoms Table 29 Diagnostic Symptom Criteria of Bipolar Disorder and Associated Brain Regions Symptom Criteria of Manic Episode Brain Regions Elevatedexpansive or irritable mood Prefrontal cortex PFC amyg dala A Inflated selfesteem or grandiosity Nucleus accumbens NA PFC Decreased need for sleep Thalamus T hypothalamus HY More talkative or pressured speech PFC Flight of ideas or racing thoughts NA PFC Distractibleconcentration PFC Increased goaldirected activity or psychomotor Striatum T agitation Risktaking behaviors PFC Source Adapted from Stahl 2013 Generally the inefficient function in these brain circuits in mania may be the opposite of the malfunctioning neuronal circuits in the same key neu rotransmitters serotonin norepinephrine and dopamine hypothesized for depression There may also be activation in some overlapping and in some different brain regions that are activated in depression Therefore treat ments for mania or hypomania either reduce or stabilize monoaminergic regulation of brain circuits associated with its symptoms Stahl 2013 Interviewing Techniques in Assessment of Bipolar Disorders As mentioned earlier bipolar disorders are marked by severe mood swings between depression and hypomania or mania Especially during the initial Diagnostic Mental Health Evaluation 53 psychiatric interview of a client who presents with a chief complaint of depres sion the depressed client may be too preoccupied with depressive symptoms to bring up a history of manic or\\')\\n\\n\\nYour response should look like this:\\n{\\n  \"chunk\": \"Symptom Criteria of Bipolar Disorder: Elevated, expansive, or irritable mood (Prefrontal cortex, Amygdala); Inflated self-esteem or grandiosity (Nucleus accumbens, PFC); Decreased need for sleep (Thalamus, hypothalamus); More talkative or pressured speech (PFC); Flight of ideas or racing thoughts (NA, PFC).\"\\n  \"conversation\": [\\n    {\\n      \"speaker\": \"Therapist\",\\n      \"message\": \"It sounds like you\\'ve been feeling a lot of energy lately, but also some frustration. Can you tell me more about how your mood has been shifting?\"\\n    },\\n    {\\n      \"speaker\": \"Patient\",\\n      \"message\": \"Yeah, some days I feel like I can do anything, but then I get really irritable, like everything is bothering me.\"\\n    },\\n    {\\n      \"speaker\": \"Therapist\",\\n      \"message\": \"I hear you. It can be really tough when your mood feels up and down like that. When you feel this energy, have you noticed other changes, like trouble sleeping or feeling like your thoughts are speeding up?\"\\n    },\\n    {\\n      \"speaker\": \"Patient\",\\n      \"message\": \"Actually, yes. I’m staying up late, and my mind just won’t stop racing.\"\\n    },\\n    {\\n      \"speaker\": \"Therapist\",\\n      \"message\": \"It sounds exhausting. Racing thoughts and lack of sleep can often make everything feel more overwhelming. Let’s focus on grounding techniques. Would you like to try a short breathing exercise with me to help calm your mind?\"\\n    },\\n    {\\n      \"speaker\": \"Patient\",\\n      \"message\": \"Yeah, I’d like that.\"\\n    },\\n    {\\n      \"speaker\": \"Therapist\",\\n      \"message\": \"Great. Let’s take a deep breath in together... and slowly breathe out. Focus just on your breathing. How do you feel now?\"\\n    },\\n    {\\n      \"speaker\": \"Patient\",\\n      \"message\": \"A little calmer, but still restless.\"\\n    },\\n    {\\n      \"speaker\": \"Therapist\",\\n      \"message\": \"That\\'s completely okay. It’s normal to feel restless with high energy. Regular practices like this can help your mind slow down over time. We can also work on balancing sleep patterns to help with this. How does that sound to you?\"\\n    },\\n    {\\n      \"speaker\": \"Patient\",\\n      \"message\": \"That sounds good. I just want to feel more in control.\"\\n    },\\n    {\\n      \"speaker\": \"Therapist\",\\n      \"message\": \"You’re doing great. Let’s take it one step at a time, and I’ll be here to help.\"\\n    }\\n  ]\\n}\\n\\n'"
      ]
     },
     "execution_count": 27,
     "metadata": {},
     "output_type": "execute_result"
    }
   ],
   "source": [
    "prompt = DATASET_GEN_PROMPT.format(chunk_text=d)\n",
    "prompt"
   ]
  },
  {
   "cell_type": "code",
   "execution_count": 28,
   "id": "7e8279fd",
   "metadata": {},
   "outputs": [
    {
     "data": {
      "text/plain": [
       "ChatResponse(model='llama3.2', created_at='2025-05-07T11:32:06.727213Z', done=True, done_reason='stop', total_duration=79115861456, load_duration=6212128992, prompt_eval_count=1652, prompt_eval_duration=72876123583, eval_count=1, eval_duration=2858592, message=Message(role='assistant', content='', images=None, tool_calls=None))"
      ]
     },
     "execution_count": 28,
     "metadata": {},
     "output_type": "execute_result"
    }
   ],
   "source": [
    "#prompt = DATASET_GEN_PROMPT.format(chunk_text=d)\n",
    "# or use the chunk directly\n",
    "#prompt = DATASET_GEN_PROMPT.format(chunk_text=chunks[0].page_content)\n",
    "# Call the chat function with the model and messages\n",
    "response: ChatResponse = chat(model='llama3.2', messages = [\n",
    "    {\"role\": \"system\", \"content\": prompt}\n",
    "])\n",
    "#print(response['message']['content'])\n",
    "# or access fields directly from the response object\n",
    "#print(response.message['content'])\n",
    "response"
   ]
  },
  {
   "cell_type": "code",
   "execution_count": null,
   "id": "5df32ab4",
   "metadata": {},
   "outputs": [
    {
     "data": {
      "text/plain": [
       "ChatResponse(model='llama3.2', created_at='2025-05-07T12:09:34.671182Z', done=True, done_reason='stop', total_duration=197926596949, load_duration=7268489365, prompt_eval_count=1668, prompt_eval_duration=84885464201, eval_count=1025, eval_duration=105693204612, message=Message(role='assistant', content='{\\n  \"chunk\": \"Symptom Criteria of Bipolar Disorder: Elevated, expansive, or irritable mood (Prefrontal cortex, Amygdala); Inflated self-esteem or grandiosity (Nucleus accumbens, PFC); Decreased need for sleep (Thalamus, hypothalamus); More talkative or pressured speech (PFC); Flight of ideas or racing thoughts (NA, PFC).\",\\n  \"conversation\": [\\n    {\\n      \"speaker\": \"Therapist\",\\n      \"message\": \"It sounds like you\\'ve been feeling a lot of energy lately, but also some frustration. Can you tell me more about how your mood has been shifting?\"\\n    },\\n    {\\n      \"speaker\": \"Patient\",\\n      \"message\": \"Yeah, some days I feel like I can do anything, but then I get really irritable, like everything is bothering me.\"\\n    },\\n    {\\n      \"speaker\": \"Therapist\",\\n      \"message\": \"I hear you. It can be really tough when your mood feels up and down like that. When you feel this energy, have you noticed other changes, like trouble sleeping or feeling like your thoughts are speeding up?\"\\n    },\\n    {\\n      \"speaker\": \"Patient\",\\n      \"message\": \"Actually, yes. I’m staying up late, and my mind just won’t stop racing.\"\\n    },\\n    {\\n      \"speaker\": \"Therapist\",\\n      \"message\": \"It sounds exhausting. Racing thoughts and lack of sleep can often make everything feel more overwhelming. Let’s focus on grounding techniques. Would you like to try a short breathing exercise with me to help calm your mind?\"\\n    },\\n    {\\n      \"speaker\": \"Patient\",\\n      \"message\": \"Yeah, I’d like that.\"\\n    },\\n    {\\n      \"speaker\": \"Therapist\",\\n      \"message\": \"Great. Let’s take a deep breath in together... and slowly breathe out. Focus just on your breathing. How do you feel now?\"\\n    },\\n    {\\n      \"speaker\": \"Patient\",\\n      \"message\": \"A little calmer, but still restless.\"\\n    },\\n    {\\n      \"speaker\": \"Therapist\",\\n      \"message\": \"That’s completely okay. It’s normal to feel restless with high energy. Regular practices like this can help your mind slow down over time. We can also work on balancing sleep patterns to help with this. Have you noticed any triggers that might be contributing to these shifts in your mood?\"\\n    },\\n    {\\n      \"speaker\": \"Patient\",\\n      \"message\": \"Actually, I think it might have something to do with stress at work. I\\'ve been feeling really overwhelmed lately.\"\\n    },\\n    {\\n      \"speaker\": \"Therapist\",\\n      \"message\": \"Stress can definitely exacerbate mood swings. Let’s talk more about what you\\'re experiencing at work and see if we can brainstorm some strategies for managing that stress. Maybe we can even explore some ways to help you feel more in control and calm during those moments.\"\\n    },\\n    {\\n      \"speaker\": \"Patient\",\\n      \"message\": \"That would be really helpful, thanks.\"\\n    },\\n    {\\n      \"speaker\": \"Therapist\",\\n      \"message\": \"You’re welcome. I’m here to support you. Let’s take a step back and look at this situation together. What are some things that typically make you feel anxious or stressed at work?\"\\n    },\\n    {\\n      \"speaker\": \"Patient\",\\n      \"message\": \"Well, there\\'s just a lot on my plate right now, and I\\'m worried about not meeting expectations.\"\\n    },\\n    {\\n      \"speaker\": \"Therapist\",\\n      \"message\": \"It sounds like you\\'re putting a lot of pressure on yourself. Let’s talk more about what that feels like and see if we can work on reframing some of those thoughts. What do you think would happen if you didn\\'t meet these expectations? Would it be the end of the world?\"\\n    },\\n    {\\n      \"speaker\": \"Patient\",\\n      \"message\": \"I guess not, but it still feels really bad to admit that I don’t know everything and can make mistakes.\"\\n    },\\n    {\\n      \"speaker\": \"Therapist\",\\n      \"message\": \"It’s okay to make mistakes! That\\'s how we learn and grow. The important thing is that you acknowledge when you need help or support. Let’s work on some self-compassion exercises to help you feel more kind towards yourself when things don’t go as planned.\"\\n    },\\n    {\\n      \"speaker\": \"Patient\",\\n      \"message\": \"That sounds good. I just want to feel like I can handle it all without feeling overwhelmed.\"\\n    },\\n    {\\n      \"speaker\": \"Therapist\",\\n      \"message\": \"You are handling it, and that’s something to be proud of. Remember, we\\'re in this together. We\\'ll work on these strategies together and help you develop more coping skills. You got this!\"\\n    }\\n  ]\\n}', images=None, tool_calls=None))"
      ]
     },
     "execution_count": 30,
     "metadata": {},
     "output_type": "execute_result"
    }
   ],
   "source": [
    "d= chunks[94]\n",
    "d = d.page_content\n",
    "\n",
    "\n",
    "prompt = DATASET_GEN_PROMPT.format(chunk_text=d)\n",
    "# Call the chat function with the correct parameters\n",
    "response: ChatResponse = chat(\n",
    "    model='llama3.2',  # Ensure the correct model name\n",
    "    messages=[\n",
    "        {\"role\": \"system\", \"content\": prompt},  # System message to set the context\n",
    "        {\"role\": \"user\", \"content\": \"Please help me with this situation.\"}  # Example user message\n",
    "    ]\n",
    ")\n",
    "response"
   ]
  },
  {
   "cell_type": "code",
   "execution_count": 33,
   "id": "338e598b",
   "metadata": {},
   "outputs": [
    {
     "data": {
      "text/plain": [
       "langchain_core.documents.base.Document"
      ]
     },
     "execution_count": 33,
     "metadata": {},
     "output_type": "execute_result"
    }
   ],
   "source": [
    "type(chunks[0])"
   ]
  },
  {
   "cell_type": "code",
   "execution_count": 31,
   "id": "b62b1245",
   "metadata": {},
   "outputs": [
    {
     "data": {
      "text/plain": [
       "'{\\n  \"chunk\": \"Symptom Criteria of Bipolar Disorder: Elevated, expansive, or irritable mood (Prefrontal cortex, Amygdala); Inflated self-esteem or grandiosity (Nucleus accumbens, PFC); Decreased need for sleep (Thalamus, hypothalamus); More talkative or pressured speech (PFC); Flight of ideas or racing thoughts (NA, PFC).\",\\n  \"conversation\": [\\n    {\\n      \"speaker\": \"Therapist\",\\n      \"message\": \"It sounds like you\\'ve been feeling a lot of energy lately, but also some frustration. Can you tell me more about how your mood has been shifting?\"\\n    },\\n    {\\n      \"speaker\": \"Patient\",\\n      \"message\": \"Yeah, some days I feel like I can do anything, but then I get really irritable, like everything is bothering me.\"\\n    },\\n    {\\n      \"speaker\": \"Therapist\",\\n      \"message\": \"I hear you. It can be really tough when your mood feels up and down like that. When you feel this energy, have you noticed other changes, like trouble sleeping or feeling like your thoughts are speeding up?\"\\n    },\\n    {\\n      \"speaker\": \"Patient\",\\n      \"message\": \"Actually, yes. I’m staying up late, and my mind just won’t stop racing.\"\\n    },\\n    {\\n      \"speaker\": \"Therapist\",\\n      \"message\": \"It sounds exhausting. Racing thoughts and lack of sleep can often make everything feel more overwhelming. Let’s focus on grounding techniques. Would you like to try a short breathing exercise with me to help calm your mind?\"\\n    },\\n    {\\n      \"speaker\": \"Patient\",\\n      \"message\": \"Yeah, I’d like that.\"\\n    },\\n    {\\n      \"speaker\": \"Therapist\",\\n      \"message\": \"Great. Let’s take a deep breath in together... and slowly breathe out. Focus just on your breathing. How do you feel now?\"\\n    },\\n    {\\n      \"speaker\": \"Patient\",\\n      \"message\": \"A little calmer, but still restless.\"\\n    },\\n    {\\n      \"speaker\": \"Therapist\",\\n      \"message\": \"That’s completely okay. It’s normal to feel restless with high energy. Regular practices like this can help your mind slow down over time. We can also work on balancing sleep patterns to help with this. Have you noticed any triggers that might be contributing to these shifts in your mood?\"\\n    },\\n    {\\n      \"speaker\": \"Patient\",\\n      \"message\": \"Actually, I think it might have something to do with stress at work. I\\'ve been feeling really overwhelmed lately.\"\\n    },\\n    {\\n      \"speaker\": \"Therapist\",\\n      \"message\": \"Stress can definitely exacerbate mood swings. Let’s talk more about what you\\'re experiencing at work and see if we can brainstorm some strategies for managing that stress. Maybe we can even explore some ways to help you feel more in control and calm during those moments.\"\\n    },\\n    {\\n      \"speaker\": \"Patient\",\\n      \"message\": \"That would be really helpful, thanks.\"\\n    },\\n    {\\n      \"speaker\": \"Therapist\",\\n      \"message\": \"You’re welcome. I’m here to support you. Let’s take a step back and look at this situation together. What are some things that typically make you feel anxious or stressed at work?\"\\n    },\\n    {\\n      \"speaker\": \"Patient\",\\n      \"message\": \"Well, there\\'s just a lot on my plate right now, and I\\'m worried about not meeting expectations.\"\\n    },\\n    {\\n      \"speaker\": \"Therapist\",\\n      \"message\": \"It sounds like you\\'re putting a lot of pressure on yourself. Let’s talk more about what that feels like and see if we can work on reframing some of those thoughts. What do you think would happen if you didn\\'t meet these expectations? Would it be the end of the world?\"\\n    },\\n    {\\n      \"speaker\": \"Patient\",\\n      \"message\": \"I guess not, but it still feels really bad to admit that I don’t know everything and can make mistakes.\"\\n    },\\n    {\\n      \"speaker\": \"Therapist\",\\n      \"message\": \"It’s okay to make mistakes! That\\'s how we learn and grow. The important thing is that you acknowledge when you need help or support. Let’s work on some self-compassion exercises to help you feel more kind towards yourself when things don’t go as planned.\"\\n    },\\n    {\\n      \"speaker\": \"Patient\",\\n      \"message\": \"That sounds good. I just want to feel like I can handle it all without feeling overwhelmed.\"\\n    },\\n    {\\n      \"speaker\": \"Therapist\",\\n      \"message\": \"You are handling it, and that’s something to be proud of. Remember, we\\'re in this together. We\\'ll work on these strategies together and help you develop more coping skills. You got this!\"\\n    }\\n  ]\\n}'"
      ]
     },
     "execution_count": 31,
     "metadata": {},
     "output_type": "execute_result"
    }
   ],
   "source": [
    "response.message['content']"
   ]
  },
  {
   "cell_type": "code",
   "execution_count": null,
   "id": "0dc92858",
   "metadata": {},
   "outputs": [],
   "source": [
    "for chunk in chunks:\n",
    "    d= chunk.page_content\n",
    "    prompt = DATASET_GEN_PROMPT.format(chunk_text=d)\n",
    "    response: ChatResponse = chat(\n",
    "    model='llama3.2',  \n",
    "    messages=[\n",
    "        {\"role\": \"system\", \"content\": prompt},  # System message to set the context\n",
    "        {\"role\": \"user\", \"content\": \"Please help me with this situation.\"}  \n",
    "    ]\n",
    ")\n",
    "response.message['content']"
   ]
  },
  {
   "cell_type": "code",
   "execution_count": 37,
   "id": "e8299603",
   "metadata": {},
   "outputs": [
    {
     "name": "stdout",
     "output_type": "stream",
     "text": [
      "/Users/mac/Documents/mental_engine_chatbot/therapist_creation/extracted_books/Crisis Intervention Strategies ( PDFDrive ).txt\n",
      "/Users/mac/Documents/mental_engine_chatbot/therapist_creation/extracted_books/Before You See Your First Client_ 55 Things Counselors, Therapists and Human Service Workers Need to Know ( PDFDrive ).txt\n",
      "/Users/mac/Documents/mental_engine_chatbot/therapist_creation/extracted_books/Abnormal Psychology_ An Integrative Approach ( PDFDrive ).txt\n",
      "/Users/mac/Documents/mental_engine_chatbot/therapist_creation/extracted_books/Abnormal Psychology ( PDFDrive ).txt\n",
      "/Users/mac/Documents/mental_engine_chatbot/therapist_creation/extracted_books/_OceanofPDF.com_Psychiatric_Mental_Health_Assessment_-_Kunsook_S_Bernstein.txt\n",
      "/Users/mac/Documents/mental_engine_chatbot/therapist_creation/extracted_books/Diagnostic and statistical manual of mental disorders _ DSM-5 ( PDFDrive ).txt\n",
      "/Users/mac/Documents/mental_engine_chatbot/therapist_creation/extracted_books/Counseling and Psychotherapy with Children and Adolescents_ Theory and Practice for School and Clinical Settings ( PDFDrive ).txt\n",
      "/Users/mac/Documents/mental_engine_chatbot/therapist_creation/extracted_books/_OceanofPDF.com_Where_to_Start_and_What_to_Ask_-_Susan_Lukas.txt\n"
     ]
    }
   ],
   "source": [
    "import os\n",
    "\n",
    "extracts_path = \"/Users/mac/Documents/mental_engine_chatbot/therapist_creation/extracted_books\"\n",
    "output_path = \"/Users/mac/Documents/mental_engine_chatbot/therapist_creation/synthetic_data\"\n",
    "for extracted_books in os.listdir(extracts_path):\n",
    "    all_paths= os.path.join(extracts_path, extracted_books)\n",
    "    print (all_paths)"
   ]
  },
  {
   "cell_type": "code",
   "execution_count": null,
   "id": "44497cae",
   "metadata": {},
   "outputs": [],
   "source": []
  }
 ],
 "metadata": {
  "kernelspec": {
   "display_name": "mentalenv",
   "language": "python",
   "name": "python3"
  },
  "language_info": {
   "codemirror_mode": {
    "name": "ipython",
    "version": 3
   },
   "file_extension": ".py",
   "mimetype": "text/x-python",
   "name": "python",
   "nbconvert_exporter": "python",
   "pygments_lexer": "ipython3",
   "version": "3.11.11"
  }
 },
 "nbformat": 4,
 "nbformat_minor": 5
}
